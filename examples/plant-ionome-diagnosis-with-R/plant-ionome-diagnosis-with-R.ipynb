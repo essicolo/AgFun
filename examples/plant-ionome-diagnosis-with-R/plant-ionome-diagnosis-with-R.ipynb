{
 "cells": [
  {
   "cell_type": "markdown",
   "metadata": {},
   "source": [
    "# The diagnosis of the plant ionome with `R`\n",
    "\n",
    "I have written several papers on the subject, namely on [tomato](https://doi.org/10.3389/fpls.2017.00825), [guava](https://doi.org/10.3389/fpls.2016.01252), [kiwi](https://doi.org/10.1080/00103624.2014.989031), [corn](http://dx.doi.org/10.4236/ajps.2014.54064) and [mango](https://doi.org/10.3389/fpls.2013.00449). As conceptual papers [as](https://doi.org/10.3389/fpls.2013.00039) [well](https://www.researchgate.net/profile/Leon_Parent2/publication/318275787_Balance_designs_revisit_indices_commonly_used_in_agricultural_science_and_eco-engineering/links/595f7869aca2728c116ed7ac/Balance-designs-revisit-indices-commonly-used-in-agricultural-science-and-eco-engineering.pdf?_iepl%5BhomeFeedViewId%5D=WGt2J2tZMBgHrDu0f894gbN4&_iepl%5Bcontexts%5D%5B0%5D=pcfhf&_iepl%5BinteractionType%5D=publicationDownload&origin=publication_detail&ev=pub_int_prw_xdl&msrp=jNdouIpsVE9XXZM64BqhX-QZOYxkJio63F5eYVxsTgpXcSJILL5jTtgInWcrVG6A-EHy3x-DGK7satbkdtZ30xKiWFp6haEHsroz3cXW8Il6MzLQ9rQ34I70.f1IiylxL3BDdSk6kC0ypHZqMZTmNIjpGvwbX-Y_eCRasznqWGyySRCFRuoiHPSk5jyC3zJ4L-NPsggAtq8k6n9LgKJkI9ZSEHNrbKg.TsV9H4fvzhNxJE-dibQoXY3O4r129c4shwJB8aR22Uam8ZjYQEiq8HKiPQUZuyA-Yk8Fyg0RTwOHSyB9w8q3qMK7rV6LwL7fIIlWcA.bzlOVBIu2PhJ-pGG3emYDelFuq98a7iMbI10Kf8N6YQOH6FV8MADY44W_0JYpFyCyFNKtwpmb0ijtsfLEl0KUfJioL2FLf_Vi2mN5Q). I have been asked several times how the calculations were done. I now tend to publish all my codes and data on [my GitHub repository](https://github.com/essicolo), but in the past this was not so systematic. This notebook is for people who want to know how I work with plant ionomes with `R`.\n",
    "\n",
    "One of the reasons why science is beautiful is that knowledge moves through better accuracies. When I worked with mango ionomes, I created an *in-house* code to isolate a high-yield, healthy group, then assessed the health index of an ionome by computing the Mahalanobis distance between the observation to diagnose and the center and covariance of the healthy group (Mahalanobis distances need covariance).\n",
    "\n",
    "Nowadays, I prefer to use established machine learning methods. In particular, a distance-based method named *k-nearest neighbors* offers insightful results. I'm not saying it's a catch-all approach. There are probably better methods waiting to be discovered. And this notebook will be improved over time, just like a wiki."
   ]
  },
  {
   "cell_type": "markdown",
   "metadata": {},
   "source": [
    "## Load libraries\n",
    "\n",
    "I'm loading `tidyverse` to load both `ggplot2` and `dplyr`. `compositions` is a package to transform components (like concentrations) to compositionnally friendly variables, like isometric log-ratios. This package has not been updated for a while, so if you are on Windows, `R` will throw warnings, which as far as I know can be ignored. The `mvoutlier` package is usefull to detect multivariate outliers. If you are a `R` user and don't know `caret`, you are missing something huge: it's a all-in-one package for machine learning. The `MASS` package contains some useful functions, namely `ginv` for matrix inversion (used to compute the Mahalanobis distance.)"
   ]
  },
  {
   "cell_type": "code",
   "execution_count": 5,
   "metadata": {
    "collapsed": true
   },
   "outputs": [
    {
     "name": "stderr",
     "output_type": "stream",
     "text": [
      "sROC 0.1-2 loaded\n",
      "Loading required package: lattice\n",
      "\n",
      "Attaching package: 'caret'\n",
      "\n",
      "The following object is masked from 'package:compositions':\n",
      "\n",
      "    R2\n",
      "\n",
      "The following object is masked from 'package:purrr':\n",
      "\n",
      "    lift\n",
      "\n",
      "\n",
      "Attaching package: 'MASS'\n",
      "\n",
      "The following object is masked from 'package:dplyr':\n",
      "\n",
      "    select\n",
      "\n"
     ]
    }
   ],
   "source": [
    "library(\"tidyverse\")\n",
    "library(\"compositions\")\n",
    "library(\"mvoutlier\")\n",
    "library(\"caret\")\n",
    "library(\"MASS\")"
   ]
  },
  {
   "cell_type": "markdown",
   "metadata": {},
   "source": [
    "There are tools that are unavailable in packages. So I created some code and put them in my [`AgFun` repository on GitHub](https://github.com/essicolo/AgFun) (fun is for *fun*ction, of course - who would think these things are fun?!?)."
   ]
  },
  {
   "cell_type": "code",
   "execution_count": 6,
   "metadata": {},
   "outputs": [],
   "source": [
    "source(\"https://raw.githubusercontent.com/essicolo/AgFun/master/DRIS.R\") # DRIS\n",
    "source(\"https://raw.githubusercontent.com/essicolo/AgFun/master/sign1_ref.R\") # Mahalanobis\n",
    "source(\"https://raw.githubusercontent.com/essicolo/AgFun/master/codadend2.R\") # CoDaDendrogram2\n",
    "source(\"https://raw.githubusercontent.com/essicolo/AgFun/master/ilrDefinition.R\") # ilrDefinition\n",
    "source(\"https://raw.githubusercontent.com/essicolo/AgFun/master/CateNelson.R\") # CateNelson\n",
    "source(\"https://raw.githubusercontent.com/essicolo/AgFun/master/biclass.R\") # biclass"
   ]
  },
  {
   "cell_type": "markdown",
   "metadata": {},
   "source": [
    "DRIS stands for Diagnosis and Recommandation Integrated System. It's a mathematical formulation created by Beaufils () to assess plant ionomes. The `sign1_ref` function is inspired by the `sign1` function of the `mvoutlier` package: it does the isolation of a healthy group and computes Mahalanobis distances. The `codadend2.R` fil contains the `CoDaDendrogram2` function. It's a fork of the `CoDaDendrogram` function from the `compositions` package which mostly adds the ability to plot statistics on the vertical branches. The `ilrDefinition.R` file contains a function that generates `[E,D | C,B,A]` strings from a sequential binary partition (a SBP, used to give a structure to isometric log-ratios). The `CateNelson.R` and the `biclass.R` files contain respectively a function to plot Cate-Nelson data and to classify these data in binary classes."
   ]
  },
  {
   "cell_type": "markdown",
   "metadata": {},
   "source": [
    "## Load data\n",
    "\n",
    "The data set comes from cranberries. When there are numerous components to analyse, I prefer to design SBPs in a spreadsheet (LibreOffice Calc) rather than entering it in `R`."
   ]
  },
  {
   "cell_type": "code",
   "execution_count": 7,
   "metadata": {},
   "outputs": [],
   "source": [
    "atoca <- read.csv('https://raw.githubusercontent.com/essicolo/AgFun/master/examples/plant-ionome-diagnosis-with-R/data/data.csv', sep=';')\n",
    "sbp <- read.csv('https://raw.githubusercontent.com/essicolo/AgFun/master/examples/plant-ionome-diagnosis-with-R/data/sbp.csv', sep=';')"
   ]
  },
  {
   "cell_type": "code",
   "execution_count": 8,
   "metadata": {},
   "outputs": [
    {
     "data": {
      "text/html": [
       "<table>\n",
       "<thead><tr><th></th><th scope=col>Annee</th><th scope=col>Site</th><th scope=col>Type</th><th scope=col>Dose</th><th scope=col>RÃ.pÃ.tition</th><th scope=col>Rendement</th><th scope=col>B</th><th scope=col>Ca</th><th scope=col>Cu</th><th scope=col>Fe</th><th scope=col>K</th><th scope=col>Mg</th><th scope=col>Mn</th><th scope=col>P</th><th scope=col>Zn</th><th scope=col>N</th><th scope=col>C</th><th scope=col>S</th></tr></thead>\n",
       "<tbody>\n",
       "\t<tr><th scope=row>220</th><td>2015    </td><td>9       </td><td>N       </td><td>30      </td><td>1       </td><td>24.30   </td><td>55.04   </td><td>6146.643</td><td>0.583   </td><td>80.928  </td><td>4054.872</td><td>1507.094</td><td>209.229 </td><td>654.056 </td><td>36.893  </td><td> 7655.7 </td><td>500290  </td><td>327.2   </td></tr>\n",
       "\t<tr><th scope=row>221</th><td>2015    </td><td>9       </td><td>N       </td><td>30      </td><td>2       </td><td>23.31   </td><td>44.32   </td><td>5334.366</td><td>0.876   </td><td>19.275  </td><td>4804.615</td><td>1620.087</td><td>137.948 </td><td>719.722 </td><td>36.487  </td><td> 9259.8 </td><td>508480  </td><td>392.0   </td></tr>\n",
       "\t<tr><th scope=row>222</th><td>2015    </td><td>9       </td><td>N       </td><td>45      </td><td>1       </td><td>42.99   </td><td>48.10   </td><td>5722.822</td><td>1.254   </td><td>57.678  </td><td>4895.000</td><td>1355.771</td><td>204.122 </td><td>715.135 </td><td>34.422  </td><td>10532.0 </td><td>503640  </td><td>580.8   </td></tr>\n",
       "\t<tr><th scope=row>223</th><td>2015    </td><td>9       </td><td>N       </td><td>45      </td><td>2       </td><td>41.15   </td><td>43.06   </td><td>5475.759</td><td>0.730   </td><td>24.684  </td><td>4379.072</td><td>1531.016</td><td>163.708 </td><td>816.485 </td><td>38.090  </td><td>10930.0 </td><td>505740  </td><td>490.1   </td></tr>\n",
       "\t<tr><th scope=row>224</th><td>2015    </td><td>9       </td><td>N       </td><td>60      </td><td>1       </td><td>25.47   </td><td>37.77   </td><td>5087.231</td><td>1.065   </td><td>44.547  </td><td>4914.364</td><td>1325.100</td><td>197.556 </td><td>759.772 </td><td>41.015  </td><td>11870.0 </td><td>509600  </td><td>644.8   </td></tr>\n",
       "\t<tr><th scope=row>225</th><td>2015    </td><td>9       </td><td>N       </td><td>60      </td><td>2       </td><td>32.35   </td><td>31.77   </td><td>5368.080</td><td>1.719   </td><td> 0.000  </td><td>5585.483</td><td>1367.317</td><td>172.310 </td><td>962.050 </td><td>35.234  </td><td>12677.0 </td><td>503840  </td><td>558.7   </td></tr>\n",
       "\t<tr><th scope=row>226</th><td>2015    </td><td>9       </td><td>P       </td><td> 0      </td><td>1       </td><td>41.97   </td><td>50.28   </td><td>5046.828</td><td>0.521   </td><td>61.285  </td><td>4323.620</td><td>1440.099</td><td>195.842 </td><td>645.899 </td><td>44.769  </td><td> 8132.4 </td><td>499680  </td><td>456.3   </td></tr>\n",
       "\t<tr><th scope=row>227</th><td>2015    </td><td>9       </td><td>P       </td><td> 0      </td><td>2       </td><td>23.68   </td><td>48.31   </td><td>6128.005</td><td>0.886   </td><td>65.895  </td><td>4729.276</td><td>1543.901</td><td>218.785 </td><td>674.994 </td><td>38.642  </td><td>12760.0 </td><td>506590  </td><td>645.2   </td></tr>\n",
       "\t<tr><th scope=row>228</th><td>2015    </td><td>9       </td><td>P       </td><td>15      </td><td>1       </td><td>35.31   </td><td>58.86   </td><td>6034.661</td><td>0.943   </td><td>94.491  </td><td>4768.038</td><td>1510.485</td><td>190.375 </td><td>731.000 </td><td>37.364  </td><td>10076.0 </td><td>507790  </td><td>657.0   </td></tr>\n",
       "\t<tr><th scope=row>229</th><td>2015    </td><td>9       </td><td>P       </td><td>15      </td><td>2       </td><td>32.95   </td><td>44.65   </td><td>5832.912</td><td>1.048   </td><td>17.409  </td><td>4664.825</td><td>1495.766</td><td>178.911 </td><td>783.511 </td><td>41.554  </td><td>10902.0 </td><td>507400  </td><td>678.7   </td></tr>\n",
       "\t<tr><th scope=row>230</th><td>2015    </td><td>9       </td><td>P       </td><td>30      </td><td>1       </td><td>35.52   </td><td>47.79   </td><td>5173.217</td><td>5.591   </td><td>50.160  </td><td>4340.855</td><td>1370.260</td><td>145.965 </td><td>677.361 </td><td>37.632  </td><td> 9392.0 </td><td>506560  </td><td>456.4   </td></tr>\n",
       "</tbody>\n",
       "</table>\n"
      ],
      "text/latex": [
       "\\begin{tabular}{r|llllllllllllllllll}\n",
       "  & Annee & Site & Type & Dose & RÃ.pÃ.tition & Rendement & B & Ca & Cu & Fe & K & Mg & Mn & P & Zn & N & C & S\\\\\n",
       "\\hline\n",
       "\t220 & 2015     & 9        & N        & 30       & 1        & 24.30    & 55.04    & 6146.643 & 0.583    & 80.928   & 4054.872 & 1507.094 & 209.229  & 654.056  & 36.893   &  7655.7  & 500290   & 327.2   \\\\\n",
       "\t221 & 2015     & 9        & N        & 30       & 2        & 23.31    & 44.32    & 5334.366 & 0.876    & 19.275   & 4804.615 & 1620.087 & 137.948  & 719.722  & 36.487   &  9259.8  & 508480   & 392.0   \\\\\n",
       "\t222 & 2015     & 9        & N        & 45       & 1        & 42.99    & 48.10    & 5722.822 & 1.254    & 57.678   & 4895.000 & 1355.771 & 204.122  & 715.135  & 34.422   & 10532.0  & 503640   & 580.8   \\\\\n",
       "\t223 & 2015     & 9        & N        & 45       & 2        & 41.15    & 43.06    & 5475.759 & 0.730    & 24.684   & 4379.072 & 1531.016 & 163.708  & 816.485  & 38.090   & 10930.0  & 505740   & 490.1   \\\\\n",
       "\t224 & 2015     & 9        & N        & 60       & 1        & 25.47    & 37.77    & 5087.231 & 1.065    & 44.547   & 4914.364 & 1325.100 & 197.556  & 759.772  & 41.015   & 11870.0  & 509600   & 644.8   \\\\\n",
       "\t225 & 2015     & 9        & N        & 60       & 2        & 32.35    & 31.77    & 5368.080 & 1.719    &  0.000   & 5585.483 & 1367.317 & 172.310  & 962.050  & 35.234   & 12677.0  & 503840   & 558.7   \\\\\n",
       "\t226 & 2015     & 9        & P        &  0       & 1        & 41.97    & 50.28    & 5046.828 & 0.521    & 61.285   & 4323.620 & 1440.099 & 195.842  & 645.899  & 44.769   &  8132.4  & 499680   & 456.3   \\\\\n",
       "\t227 & 2015     & 9        & P        &  0       & 2        & 23.68    & 48.31    & 6128.005 & 0.886    & 65.895   & 4729.276 & 1543.901 & 218.785  & 674.994  & 38.642   & 12760.0  & 506590   & 645.2   \\\\\n",
       "\t228 & 2015     & 9        & P        & 15       & 1        & 35.31    & 58.86    & 6034.661 & 0.943    & 94.491   & 4768.038 & 1510.485 & 190.375  & 731.000  & 37.364   & 10076.0  & 507790   & 657.0   \\\\\n",
       "\t229 & 2015     & 9        & P        & 15       & 2        & 32.95    & 44.65    & 5832.912 & 1.048    & 17.409   & 4664.825 & 1495.766 & 178.911  & 783.511  & 41.554   & 10902.0  & 507400   & 678.7   \\\\\n",
       "\t230 & 2015     & 9        & P        & 30       & 1        & 35.52    & 47.79    & 5173.217 & 5.591    & 50.160   & 4340.855 & 1370.260 & 145.965  & 677.361  & 37.632   &  9392.0  & 506560   & 456.4   \\\\\n",
       "\\end{tabular}\n"
      ],
      "text/markdown": [
       "\n",
       "| <!--/--> | Annee | Site | Type | Dose | RÃ.pÃ.tition | Rendement | B | Ca | Cu | Fe | K | Mg | Mn | P | Zn | N | C | S | \n",
       "|---|---|---|---|---|---|---|---|---|---|---|\n",
       "| 220 | 2015     | 9        | N        | 30       | 1        | 24.30    | 55.04    | 6146.643 | 0.583    | 80.928   | 4054.872 | 1507.094 | 209.229  | 654.056  | 36.893   |  7655.7  | 500290   | 327.2    | \n",
       "| 221 | 2015     | 9        | N        | 30       | 2        | 23.31    | 44.32    | 5334.366 | 0.876    | 19.275   | 4804.615 | 1620.087 | 137.948  | 719.722  | 36.487   |  9259.8  | 508480   | 392.0    | \n",
       "| 222 | 2015     | 9        | N        | 45       | 1        | 42.99    | 48.10    | 5722.822 | 1.254    | 57.678   | 4895.000 | 1355.771 | 204.122  | 715.135  | 34.422   | 10532.0  | 503640   | 580.8    | \n",
       "| 223 | 2015     | 9        | N        | 45       | 2        | 41.15    | 43.06    | 5475.759 | 0.730    | 24.684   | 4379.072 | 1531.016 | 163.708  | 816.485  | 38.090   | 10930.0  | 505740   | 490.1    | \n",
       "| 224 | 2015     | 9        | N        | 60       | 1        | 25.47    | 37.77    | 5087.231 | 1.065    | 44.547   | 4914.364 | 1325.100 | 197.556  | 759.772  | 41.015   | 11870.0  | 509600   | 644.8    | \n",
       "| 225 | 2015     | 9        | N        | 60       | 2        | 32.35    | 31.77    | 5368.080 | 1.719    |  0.000   | 5585.483 | 1367.317 | 172.310  | 962.050  | 35.234   | 12677.0  | 503840   | 558.7    | \n",
       "| 226 | 2015     | 9        | P        |  0       | 1        | 41.97    | 50.28    | 5046.828 | 0.521    | 61.285   | 4323.620 | 1440.099 | 195.842  | 645.899  | 44.769   |  8132.4  | 499680   | 456.3    | \n",
       "| 227 | 2015     | 9        | P        |  0       | 2        | 23.68    | 48.31    | 6128.005 | 0.886    | 65.895   | 4729.276 | 1543.901 | 218.785  | 674.994  | 38.642   | 12760.0  | 506590   | 645.2    | \n",
       "| 228 | 2015     | 9        | P        | 15       | 1        | 35.31    | 58.86    | 6034.661 | 0.943    | 94.491   | 4768.038 | 1510.485 | 190.375  | 731.000  | 37.364   | 10076.0  | 507790   | 657.0    | \n",
       "| 229 | 2015     | 9        | P        | 15       | 2        | 32.95    | 44.65    | 5832.912 | 1.048    | 17.409   | 4664.825 | 1495.766 | 178.911  | 783.511  | 41.554   | 10902.0  | 507400   | 678.7    | \n",
       "| 230 | 2015     | 9        | P        | 30       | 1        | 35.52    | 47.79    | 5173.217 | 5.591    | 50.160   | 4340.855 | 1370.260 | 145.965  | 677.361  | 37.632   |  9392.0  | 506560   | 456.4    | \n",
       "\n",
       "\n"
      ],
      "text/plain": [
       "    Annee Site Type Dose RÃ.pÃ.tition Rendement B     Ca       Cu    Fe    \n",
       "220 2015  9    N    30   1            24.30     55.04 6146.643 0.583 80.928\n",
       "221 2015  9    N    30   2            23.31     44.32 5334.366 0.876 19.275\n",
       "222 2015  9    N    45   1            42.99     48.10 5722.822 1.254 57.678\n",
       "223 2015  9    N    45   2            41.15     43.06 5475.759 0.730 24.684\n",
       "224 2015  9    N    60   1            25.47     37.77 5087.231 1.065 44.547\n",
       "225 2015  9    N    60   2            32.35     31.77 5368.080 1.719  0.000\n",
       "226 2015  9    P     0   1            41.97     50.28 5046.828 0.521 61.285\n",
       "227 2015  9    P     0   2            23.68     48.31 6128.005 0.886 65.895\n",
       "228 2015  9    P    15   1            35.31     58.86 6034.661 0.943 94.491\n",
       "229 2015  9    P    15   2            32.95     44.65 5832.912 1.048 17.409\n",
       "230 2015  9    P    30   1            35.52     47.79 5173.217 5.591 50.160\n",
       "    K        Mg       Mn      P       Zn     N       C      S    \n",
       "220 4054.872 1507.094 209.229 654.056 36.893  7655.7 500290 327.2\n",
       "221 4804.615 1620.087 137.948 719.722 36.487  9259.8 508480 392.0\n",
       "222 4895.000 1355.771 204.122 715.135 34.422 10532.0 503640 580.8\n",
       "223 4379.072 1531.016 163.708 816.485 38.090 10930.0 505740 490.1\n",
       "224 4914.364 1325.100 197.556 759.772 41.015 11870.0 509600 644.8\n",
       "225 5585.483 1367.317 172.310 962.050 35.234 12677.0 503840 558.7\n",
       "226 4323.620 1440.099 195.842 645.899 44.769  8132.4 499680 456.3\n",
       "227 4729.276 1543.901 218.785 674.994 38.642 12760.0 506590 645.2\n",
       "228 4768.038 1510.485 190.375 731.000 37.364 10076.0 507790 657.0\n",
       "229 4664.825 1495.766 178.911 783.511 41.554 10902.0 507400 678.7\n",
       "230 4340.855 1370.260 145.965 677.361 37.632  9392.0 506560 456.4"
      ]
     },
     "metadata": {},
     "output_type": "display_data"
    }
   ],
   "source": [
    "atoca[220:230, ]"
   ]
  },
  {
   "cell_type": "markdown",
   "metadata": {},
   "source": [
    "I use a filling value (`Fv`), representing all the components which were not measured (here mostly oxigen and hydrogen) in the leaves. This is useful not only in the diagnostic, but also it's necessary to back-transform isometric log-ratios to concentrations in the original scale."
   ]
  },
  {
   "cell_type": "code",
   "execution_count": 11,
   "metadata": {},
   "outputs": [],
   "source": [
    "parts <- atoca[ ,7:18]\n",
    "if (!'Fv' %in% colnames(parts)) parts$Fv <- 1e6 - rowSums(parts)"
   ]
  },
  {
   "cell_type": "markdown",
   "metadata": {},
   "source": [
    "It's always useful to check if the column names in parts and sbp are the same."
   ]
  },
  {
   "cell_type": "code",
   "execution_count": 12,
   "metadata": {},
   "outputs": [
    {
     "data": {
      "text/html": [
       "<table>\n",
       "<tbody>\n",
       "\t<tr><th scope=row>colnames.sbp.</th><td>B </td><td>Ca</td><td>Cu</td><td>Fe</td><td>K </td><td>Mg</td><td>Mn</td><td>P </td><td>Zn</td><td>N </td><td>C </td><td>S </td><td>Fv</td></tr>\n",
       "\t<tr><th scope=row>colnames.parts.</th><td>B </td><td>Ca</td><td>Cu</td><td>Fe</td><td>K </td><td>Mg</td><td>Mn</td><td>P </td><td>Zn</td><td>N </td><td>C </td><td>S </td><td>Fv</td></tr>\n",
       "</tbody>\n",
       "</table>\n"
      ],
      "text/latex": [
       "\\begin{tabular}{r|lllllllllllll}\n",
       "\tcolnames.sbp. & B  & Ca & Cu & Fe & K  & Mg & Mn & P  & Zn & N  & C  & S  & Fv\\\\\n",
       "\tcolnames.parts. & B  & Ca & Cu & Fe & K  & Mg & Mn & P  & Zn & N  & C  & S  & Fv\\\\\n",
       "\\end{tabular}\n"
      ],
      "text/markdown": [
       "\n",
       "| colnames.sbp. | B  | Ca | Cu | Fe | K  | Mg | Mn | P  | Zn | N  | C  | S  | Fv | \n",
       "| colnames.parts. | B  | Ca | Cu | Fe | K  | Mg | Mn | P  | Zn | N  | C  | S  | Fv | \n",
       "\n",
       "\n"
      ],
      "text/plain": [
       "                [,1] [,2] [,3] [,4] [,5] [,6] [,7] [,8] [,9] [,10] [,11] [,12]\n",
       "colnames.sbp.   B    Ca   Cu   Fe   K    Mg   Mn   P    Zn   N     C     S    \n",
       "colnames.parts. B    Ca   Cu   Fe   K    Mg   Mn   P    Zn   N     C     S    \n",
       "                [,13]\n",
       "colnames.sbp.   Fv   \n",
       "colnames.parts. Fv   "
      ]
     },
     "metadata": {},
     "output_type": "display_data"
    }
   ],
   "source": [
    "t(data.frame(colnames(sbp), colnames(parts)))"
   ]
  },
  {
   "cell_type": "markdown",
   "metadata": {},
   "source": [
    "## Compositional data analysis\n",
    "In this section, I transform the parts to balances. This is done to free concentrations from their closed space, from their redundancy and from their subcompositional incoherence ([this paper](https://doi.org/10.3389/fpls.2013.00039) for more details)."
   ]
  },
  {
   "cell_type": "code",
   "execution_count": 14,
   "metadata": {
    "collapsed": true
   },
   "outputs": [],
   "source": [
    "ilrDef <- ilrDefinition(sbp, side = '-+') # assign [E,D | C,B,A] names to balances\n",
    "comp <- acomp(parts)\n",
    "bal <- ilr(comp, V = gsi.buildilrBase(t(sbp)))\n",
    "colnames(bal) <- ilrDef"
   ]
  },
  {
   "cell_type": "markdown",
   "metadata": {},
   "source": [
    "The `CoDaDendrogram2` function can be use to plot trends in yield at each fulcrum."
   ]
  },
  {
   "cell_type": "code",
   "execution_count": 8,
   "metadata": {},
   "outputs": [
    {
     "name": "stderr",
     "output_type": "stream",
     "text": [
      "Warning message in structure(c(), class = c(class(x), class(y))):\n",
      "\"Calling 'structure(NULL, *)' is deprecated, as NULL cannot have attributes.\n",
      "  Consider 'structure(list(), *)' instead.\"Warning message in structure(c(), class = c(class(x), class(y))):\n",
      "\"Calling 'structure(NULL, *)' is deprecated, as NULL cannot have attributes.\n",
      "  Consider 'structure(list(), *)' instead.\"Warning message in structure(c(), class = c(class(x), class(y))):\n",
      "\"Calling 'structure(NULL, *)' is deprecated, as NULL cannot have attributes.\n",
      "  Consider 'structure(list(), *)' instead.\"Warning message in structure(c(), class = c(class(x), class(y))):\n",
      "\"Calling 'structure(NULL, *)' is deprecated, as NULL cannot have attributes.\n",
      "  Consider 'structure(list(), *)' instead.\"Warning message in structure(c(), class = c(class(x), class(y))):\n",
      "\"Calling 'structure(NULL, *)' is deprecated, as NULL cannot have attributes.\n",
      "  Consider 'structure(list(), *)' instead.\"Warning message in structure(c(), class = c(class(x), class(y))):\n",
      "\"Calling 'structure(NULL, *)' is deprecated, as NULL cannot have attributes.\n",
      "  Consider 'structure(list(), *)' instead.\"Warning message in structure(c(), class = c(class(x), class(y))):\n",
      "\"Calling 'structure(NULL, *)' is deprecated, as NULL cannot have attributes.\n",
      "  Consider 'structure(list(), *)' instead.\"Warning message in structure(c(), class = c(class(x), class(y))):\n",
      "\"Calling 'structure(NULL, *)' is deprecated, as NULL cannot have attributes.\n",
      "  Consider 'structure(list(), *)' instead.\"Warning message in structure(c(), class = c(class(x), class(y))):\n",
      "\"Calling 'structure(NULL, *)' is deprecated, as NULL cannot have attributes.\n",
      "  Consider 'structure(list(), *)' instead.\"Warning message in structure(c(), class = c(class(x), class(y))):\n",
      "\"Calling 'structure(NULL, *)' is deprecated, as NULL cannot have attributes.\n",
      "  Consider 'structure(list(), *)' instead.\"Warning message in structure(c(), class = c(class(x), class(y))):\n",
      "\"Calling 'structure(NULL, *)' is deprecated, as NULL cannot have attributes.\n",
      "  Consider 'structure(list(), *)' instead.\"Warning message in structure(c(), class = c(class(x), class(y))):\n",
      "\"Calling 'structure(NULL, *)' is deprecated, as NULL cannot have attributes.\n",
      "  Consider 'structure(list(), *)' instead.\"Warning message in structure(c(), class = c(class(x), class(y))):\n",
      "\"Calling 'structure(NULL, *)' is deprecated, as NULL cannot have attributes.\n",
      "  Consider 'structure(list(), *)' instead.\"Warning message in structure(c(), class = c(class(x), class(y))):\n",
      "\"Calling 'structure(NULL, *)' is deprecated, as NULL cannot have attributes.\n",
      "  Consider 'structure(list(), *)' instead.\"Warning message in structure(c(), class = c(class(x), class(y))):\n",
      "\"Calling 'structure(NULL, *)' is deprecated, as NULL cannot have attributes.\n",
      "  Consider 'structure(list(), *)' instead.\"Warning message in structure(c(), class = c(class(x), class(y))):\n",
      "\"Calling 'structure(NULL, *)' is deprecated, as NULL cannot have attributes.\n",
      "  Consider 'structure(list(), *)' instead.\"Warning message in structure(c(), class = c(class(x), class(y))):\n",
      "\"Calling 'structure(NULL, *)' is deprecated, as NULL cannot have attributes.\n",
      "  Consider 'structure(list(), *)' instead.\"Warning message in structure(c(), class = c(class(x), class(y))):\n",
      "\"Calling 'structure(NULL, *)' is deprecated, as NULL cannot have attributes.\n",
      "  Consider 'structure(list(), *)' instead.\"Warning message in structure(c(), class = c(class(x), class(y))):\n",
      "\"Calling 'structure(NULL, *)' is deprecated, as NULL cannot have attributes.\n",
      "  Consider 'structure(list(), *)' instead.\"Warning message in structure(c(), class = c(class(x), class(y))):\n",
      "\"Calling 'structure(NULL, *)' is deprecated, as NULL cannot have attributes.\n",
      "  Consider 'structure(list(), *)' instead.\"Warning message in structure(c(), class = c(class(x), class(y))):\n",
      "\"Calling 'structure(NULL, *)' is deprecated, as NULL cannot have attributes.\n",
      "  Consider 'structure(list(), *)' instead.\"Warning message in structure(c(), class = c(class(x), class(y))):\n",
      "\"Calling 'structure(NULL, *)' is deprecated, as NULL cannot have attributes.\n",
      "  Consider 'structure(list(), *)' instead.\"Warning message in structure(c(), class = c(class(x), class(y))):\n",
      "\"Calling 'structure(NULL, *)' is deprecated, as NULL cannot have attributes.\n",
      "  Consider 'structure(list(), *)' instead.\"Warning message in structure(c(), class = c(class(x), class(y))):\n",
      "\"Calling 'structure(NULL, *)' is deprecated, as NULL cannot have attributes.\n",
      "  Consider 'structure(list(), *)' instead.\"Warning message in structure(c(), class = c(class(x), class(y))):\n",
      "\"Calling 'structure(NULL, *)' is deprecated, as NULL cannot have attributes.\n",
      "  Consider 'structure(list(), *)' instead.\"Warning message in structure(c(), class = c(class(x), class(y))):\n",
      "\"Calling 'structure(NULL, *)' is deprecated, as NULL cannot have attributes.\n",
      "  Consider 'structure(list(), *)' instead.\""
     ]
    },
    {
     "data": {
      "image/png": "[encoded data removed]",
      "text/plain": [
       "plot without title"
      ]
     },
     "metadata": {},
     "output_type": "display_data"
    }
   ],
   "source": [
    "grouping <- cut(atoca$Rendement, breaks = 10)\n",
    "grouping <- factor(grouping, levels = rev(levels(grouping)))\n",
    "\n",
    "options(repr.plot.width=6, repr.plot.height=5)\n",
    "CoDaDendrogram2(comp, V = psi,\n",
    "                range = 'auto', equal.height = TRUE, type = 'conf', conf.level = 0,\n",
    "                show.range = FALSE, group = grouping, pch.col = FALSE)"
   ]
  },
  {
   "cell_type": "markdown",
   "metadata": {},
   "source": [
    "### Check for outliers\n",
    "I'm using `sign2` with a loose criteria to detect potential outliers. The pairs plot shows outliers in black."
   ]
  },
  {
   "cell_type": "code",
   "execution_count": 9,
   "metadata": {},
   "outputs": [
    {
     "data": {
      "image/png": "[encoded data removed]",
      "text/plain": [
       "plot without title"
      ]
     },
     "metadata": {},
     "output_type": "display_data"
    }
   ],
   "source": [
    "options(repr.plot.width=6, repr.plot.height=6)\n",
    "out_test <- sign2(unclass(bal), qcrit = 0.999)\n",
    "pairs(bal, col = factor(out_test$wfinal01), pch=16)"
   ]
  },
  {
   "cell_type": "markdown",
   "metadata": {},
   "source": [
    "I keep the inliers in the `bal_in` object."
   ]
  },
  {
   "cell_type": "code",
   "execution_count": 10,
   "metadata": {},
   "outputs": [],
   "source": [
    "bal_in = bal[out_test$wfinal01 == 1, ]"
   ]
  },
  {
   "cell_type": "markdown",
   "metadata": {},
   "source": [
    "Just for sake of data mining, we can do a pca and ceck if there is a trend with cranberry yield."
   ]
  },
  {
   "cell_type": "code",
   "execution_count": 11,
   "metadata": {},
   "outputs": [
    {
     "name": "stderr",
     "output_type": "stream",
     "text": [
      "Warning message in structure(c(), class = c(class(x), class(y))):\n",
      "\"Calling 'structure(NULL, *)' is deprecated, as NULL cannot have attributes.\n",
      "  Consider 'structure(list(), *)' instead.\""
     ]
    },
    {
     "data": {},
     "metadata": {},
     "output_type": "display_data"
    },
    {
     "data": {
      "image/png": "[encoded data removed]",
      "text/plain": [
       "plot without title"
      ]
     },
     "metadata": {},
     "output_type": "display_data"
    }
   ],
   "source": [
    "options(repr.plot.width=5, repr.plot.height=3)\n",
    "bal_pca = princomp(bal, cor=FALSE)\n",
    "gg_pca = data.frame(bal_pca$scores[, 1:2], yield = atoca$Rendement)\n",
    "ggplot(gg_pca, aes(x = Comp.1, y = Comp.2)) +\n",
    "  geom_point(aes(size = yield), alpha=0.2)"
   ]
  },
  {
   "cell_type": "markdown",
   "metadata": {},
   "source": [
    "Some regions are definitly yielding low, showing potential trends in the data."
   ]
  },
  {
   "cell_type": "markdown",
   "metadata": {},
   "source": [
    "## Linear regression\n",
    "For sake of statistical testing, I test if yield can be described by a linear combinaision of balances. If one wants to compare coefficients, variables should be scaled (zero mean and unit standard deviation)."
   ]
  },
  {
   "cell_type": "code",
   "execution_count": 20,
   "metadata": {},
   "outputs": [],
   "source": [
    "bal_sc <- scale(bal)\n",
    "colnames(bal_sc) <- ilrDef"
   ]
  },
  {
   "cell_type": "code",
   "execution_count": 21,
   "metadata": {},
   "outputs": [
    {
     "data": {
      "text/plain": [
       "\n",
       "Call:\n",
       "lm(formula = yield ~ ., data = bal_df)\n",
       "\n",
       "Residuals:\n",
       "     Min       1Q   Median       3Q      Max \n",
       "-25.8051  -6.5717  -0.2561   6.6827  24.4092 \n",
       "\n",
       "Coefficients:\n",
       "                                      Estimate Std. Error t value Pr(>|t|)    \n",
       "(Intercept)                            40.0493     0.5641  70.996  < 2e-16 ***\n",
       "X.S.C.N.Zn.P.Mn.Mg.K.Fe.Cu.Ca.B...Fv.  -1.9681     1.6937  -1.162 0.246239    \n",
       "X.N.Zn.P.Mn.Mg.K.Fe.Cu.Ca.B...S.C.     -6.0682     2.1117  -2.874 0.004377 ** \n",
       "X.S...C.                               -6.8642     2.0775  -3.304 0.001080 ** \n",
       "X.N.P.Mg.K.Ca.B...Zn.Mn.Fe.Cu.         -6.7107     1.3601  -4.934  1.4e-06 ***\n",
       "X.Zn.Cu...Mn.Fe.                        0.6384     1.1624   0.549 0.583343    \n",
       "X.Mn...Fe.                              0.5219     1.0434   0.500 0.617325    \n",
       "X.Zn...Cu.                              2.8604     0.9055   3.159 0.001760 ** \n",
       "X.N.P.Mg.K.Ca...B.                     -1.0229     0.6961  -1.469 0.142862    \n",
       "X.Mg.K.Ca...N.P.                        1.2087     1.1030   1.096 0.274099    \n",
       "X.N...P.                               -2.8013     0.9981  -2.807 0.005366 ** \n",
       "X.Mg.Ca...K.                           -2.7096     0.7623  -3.555 0.000446 ***\n",
       "X.Mg...Ca.                              4.1586     0.9435   4.408  1.5e-05 ***\n",
       "---\n",
       "Signif. codes:  0 '***' 0.001 '**' 0.01 '*' 0.05 '.' 0.1 ' ' 1\n",
       "\n",
       "Residual standard error: 9.557 on 274 degrees of freedom\n",
       "Multiple R-squared:  0.5608,\tAdjusted R-squared:  0.5415 \n",
       "F-statistic: 29.15 on 12 and 274 DF,  p-value: < 2.2e-16\n"
      ]
     },
     "metadata": {},
     "output_type": "display_data"
    }
   ],
   "source": [
    "bal_df <- data.frame(bal_sc, yield = atoca$Rendement)\n",
    "mod1 <- lm(yield ~ ., bal_df) # log10 of yield could also be used\n",
    "summary(mod1)"
   ]
  },
  {
   "cell_type": "markdown",
   "metadata": {},
   "source": [
    "In `R`, there is a very useful package named `MCMCpack`, which can easily handle bayesian statistics. I'm not using it here to keep focus. Just saying. "
   ]
  },
  {
   "cell_type": "code",
   "execution_count": 13,
   "metadata": {},
   "outputs": [],
   "source": [
    "#library(MCMCpack)\n",
    "#model1_bayes = MCMCregress(yield ~ ., bal_df)"
   ]
  },
  {
   "cell_type": "markdown",
   "metadata": {},
   "source": [
    "We verify the distribution of residues. The null hypothesis is that residues are normally distributed."
   ]
  },
  {
   "cell_type": "code",
   "execution_count": 22,
   "metadata": {},
   "outputs": [
    {
     "data": {
      "text/plain": [
       "\n",
       "\tShapiro-Wilk normality test\n",
       "\n",
       "data:  residuals(mod1)\n",
       "W = 0.99687, p-value = 0.8511\n"
      ]
     },
     "metadata": {},
     "output_type": "display_data"
    }
   ],
   "source": [
    "shapiro.test(residuals(mod1))"
   ]
  },
  {
   "cell_type": "markdown",
   "metadata": {},
   "source": [
    "The null hypothesis is not rejected at a 0.05 level. Great, but let's see how the linear model behaves."
   ]
  },
  {
   "cell_type": "code",
   "execution_count": 23,
   "metadata": {},
   "outputs": [
    {
     "data": {
      "image/png": "[encoded data removed]",
      "text/plain": [
       "plot without title"
      ]
     },
     "metadata": {},
     "output_type": "display_data"
    }
   ],
   "source": [
    "options(repr.plot.width=5, repr.plot.height=4)\n",
    "plot(atoca$Rendement, predict(mod1),\n",
    "     xlab = \"Measured yield\",\n",
    "     ylab = \"Predicted yield\",\n",
    "    col='gray40')\n",
    "abline(a=0,b=1, col=\"red\", lty = 2, lwd = 2)"
   ]
  },
  {
   "cell_type": "markdown",
   "metadata": {},
   "source": [
    "I have to say that this is unusually good for ecological data. But a linear statistical model describes the effects: it doesn't predict anything.\n",
    "\n",
    "This is where machine learning come to play."
   ]
  },
  {
   "cell_type": "markdown",
   "metadata": {},
   "source": [
    "## Machine learning\n",
    "In ML, we either regress to predict continuous values or classify to predict categories. Of course, yield is continuous. But for diagnosis and decision-making, continuous values are difficult to interpret.\n",
    "\n",
    "### Yield as continuous target\n",
    "Anyways, let's try a regression model. In ML, we need to split data into a training set, on which the model will be fitted, and a testing set used to test how the model behaves with data which were not used for fitting."
   ]
  },
  {
   "cell_type": "code",
   "execution_count": 27,
   "metadata": {},
   "outputs": [],
   "source": [
    "set.seed(534636)\n",
    "inTrain <- createDataPartition(y = bal_df$yield, p = .70, list = FALSE) # indexes of the training set\n",
    "training <- bal_df[inTrain, ] # training set\n",
    "testing <- bal_df[-inTrain, ] # testing set"
   ]
  },
  {
   "cell_type": "markdown",
   "metadata": {},
   "source": [
    "Many algotithms cans be tested. In my experience, **KNN**s usually work great with ilrs. Beware that fitting ML can be a long process..."
   ]
  },
  {
   "cell_type": "code",
   "execution_count": 28,
   "metadata": {},
   "outputs": [],
   "source": [
    "grid <- expand.grid(kmax = seq(2, 10, by = 2),\n",
    "                    distance = seq(0.2, 2, by = 0.2),\n",
    "                    kernel = 'optimal') # grid of parameters to try\n",
    "ml_kknn_reg = train(yield ~ ., data = training, method = \"kknn\", tuneGrid = grid, tuneLength = 10) # long process"
   ]
  },
  {
   "cell_type": "code",
   "execution_count": 29,
   "metadata": {},
   "outputs": [
    {
     "data": {
      "image/png": "[encoded data removed]",
      "text/plain": [
       "plot without title"
      ]
     },
     "metadata": {},
     "output_type": "display_data"
    }
   ],
   "source": [
    "options(repr.plot.width=5, repr.plot.height=4)\n",
    "plot(bal_df[inTrain, 'yield'], predict(ml_kknn_reg),\n",
    "     xlab = \"Measured yield\",\n",
    "     ylab = \"Predicted yield\",\n",
    "    col='lightblue')\n",
    "points(bal_df[-inTrain, 'yield'], predict(ml_kknn_reg, testing),\n",
    "    col='red', pch=4)\n",
    "abline(a=0,b=1, col=\"red\", lty = 2, lwd = 2)"
   ]
  },
  {
   "cell_type": "markdown",
   "metadata": {},
   "source": [
    "The `caret` package allows to plot an index of importance of variables. Each algorithm ha its own meaning of \"importance\" of variables. We should be careful on what \"importance\" means, case by case."
   ]
  },
  {
   "cell_type": "code",
   "execution_count": 30,
   "metadata": {},
   "outputs": [
    {
     "data": {},
     "metadata": {},
     "output_type": "display_data"
    },
    {
     "data": {
      "image/png": "[encoded data removed]",
      "text/plain": [
       "plot without title"
      ]
     },
     "metadata": {},
     "output_type": "display_data"
    }
   ],
   "source": [
    "vI = varImp(ml_kknn_reg)\n",
    "rownames(vI$importance) = ilrDef\n",
    "plot(vI)"
   ]
  },
  {
   "cell_type": "markdown",
   "metadata": {},
   "source": [
    "## Yield as ordered category\n",
    "\n",
    "For dagnosis purposes, yield can be segmented in categories, usually only two."
   ]
  },
  {
   "cell_type": "code",
   "execution_count": 20,
   "metadata": {},
   "outputs": [
    {
     "name": "stdout",
     "output_type": "stream",
     "text": [
      "   0%   25%   50%   75%  100% \n",
      " 6.45 29.89 39.05 50.05 74.14 \n"
     ]
    },
    {
     "data": {
      "image/png": "[encoded data removed]",
      "text/plain": [
       "plot without title"
      ]
     },
     "metadata": {},
     "output_type": "display_data"
    }
   ],
   "source": [
    "print(quantile(bal_df$yield))\n",
    "boxplot(bal_df$yield) "
   ]
  },
  {
   "cell_type": "markdown",
   "metadata": {},
   "source": [
    "A delimiter of 50 t/ha seems reasonnable."
   ]
  },
  {
   "cell_type": "code",
   "execution_count": 21,
   "metadata": {},
   "outputs": [],
   "source": [
    "yield_delimiter = 50\n",
    "bal_df$yieldclass = cut(bal_df$yield, c(0, yield_delimiter, 75))\n",
    "levels(bal_df$yieldclass) = c('LY', 'HY')\n",
    "training = bal_df[inTrain, -13] # training set\n",
    "testing = bal_df[-inTrain, -13] # testing set"
   ]
  },
  {
   "cell_type": "code",
   "execution_count": 22,
   "metadata": {},
   "outputs": [],
   "source": [
    "grid = expand.grid(kmax = seq(10, 30, by = 5),\n",
    "                   distance = 1.2,#seq(0.6, 3, by = 0.2), \n",
    "                   kernel = 'optimal') # grid of parameters to try\n",
    "ml_kknn_clf = train(yieldclass ~ ., \n",
    "                    data = training, \n",
    "                    method = \"kknn\", \n",
    "                    tuneGrid = grid, \n",
    "                    tuneLength = 20) # long process"
   ]
  },
  {
   "cell_type": "markdown",
   "metadata": {},
   "source": [
    "The contingency tables in the training and testing sets."
   ]
  },
  {
   "cell_type": "code",
   "execution_count": 23,
   "metadata": {},
   "outputs": [
    {
     "data": {
      "text/plain": [
       "        Predicted\n",
       "Measured  LY  HY\n",
       "      LY 149  13\n",
       "      HY   8  46"
      ]
     },
     "metadata": {},
     "output_type": "display_data"
    }
   ],
   "source": [
    "ct_train = table(Measured = bal_df[inTrain, 'yieldclass'], \n",
    "                 Predicted = predict(ml_kknn_clf))\n",
    "ct_train"
   ]
  },
  {
   "cell_type": "code",
   "execution_count": 24,
   "metadata": {},
   "outputs": [
    {
     "data": {
      "text/plain": [
       "        Predicted\n",
       "Measured LY HY\n",
       "      LY 50  3\n",
       "      HY  3 15"
      ]
     },
     "metadata": {},
     "output_type": "display_data"
    }
   ],
   "source": [
    "ct_test = table(Measured = bal_df[-inTrain, 'yieldclass'], \n",
    "                Predicted = predict(ml_kknn_clf,testing))\n",
    "ct_test"
   ]
  },
  {
   "cell_type": "markdown",
   "metadata": {},
   "source": [
    "The accuracy in the testing set."
   ]
  },
  {
   "cell_type": "code",
   "execution_count": 25,
   "metadata": {},
   "outputs": [
    {
     "data": {
      "text/html": [
       "0.915492957746479"
      ],
      "text/latex": [
       "0.915492957746479"
      ],
      "text/markdown": [
       "0.915492957746479"
      ],
      "text/plain": [
       "[1] 0.915493"
      ]
     },
     "metadata": {},
     "output_type": "display_data"
    }
   ],
   "source": [
    "(ct_test[1, 1] + ct_test[2, 2]) / sum(ct_test)"
   ]
  },
  {
   "cell_type": "markdown",
   "metadata": {},
   "source": [
    "The optimal parameters of the model."
   ]
  },
  {
   "cell_type": "code",
   "execution_count": 26,
   "metadata": {
    "scrolled": false
   },
   "outputs": [
    {
     "data": {
      "text/plain": [
       "k-Nearest Neighbors \n",
       "\n",
       "216 samples\n",
       " 12 predictor\n",
       "  2 classes: 'LY', 'HY' \n",
       "\n",
       "No pre-processing\n",
       "Resampling: Bootstrapped (25 reps) \n",
       "Summary of sample sizes: 216, 216, 216, 216, 216, 216, ... \n",
       "Resampling results across tuning parameters:\n",
       "\n",
       "  kmax  Accuracy   Kappa    \n",
       "  10    0.7972343  0.4785198\n",
       "  15    0.7972343  0.4785198\n",
       "  20    0.7972343  0.4785198\n",
       "  25    0.7972343  0.4785198\n",
       "  30    0.7972343  0.4785198\n",
       "\n",
       "Tuning parameter 'distance' was held constant at a value of 1.2\n",
       "\n",
       "Tuning parameter 'kernel' was held constant at a value of optimal\n",
       "Accuracy was used to select the optimal model using  the largest value.\n",
       "The final values used for the model were kmax = 30, distance = 1.2 and kernel\n",
       " = optimal."
      ]
     },
     "metadata": {},
     "output_type": "display_data"
    }
   ],
   "source": [
    "ml_kknn_clf"
   ]
  },
  {
   "cell_type": "markdown",
   "metadata": {},
   "source": [
    "With KNNs, we can generate an imbalance index by computing the distance between a point and the mean nearest K balanced points in the ilr space. First, we must isolate the reference population, the one have high yield which can be correctly predicted, i.e. the true negatives (truely not sick)."
   ]
  },
  {
   "cell_type": "code",
   "execution_count": 27,
   "metadata": {},
   "outputs": [
    {
     "data": {},
     "metadata": {},
     "output_type": "display_data"
    },
    {
     "data": {
      "image/png": "[encoded data removed]",
      "text/plain": [
       "plot without title"
      ]
     },
     "metadata": {},
     "output_type": "display_data"
    }
   ],
   "source": [
    "vI = varImp(ml_kknn_clf)\n",
    "rownames(vI$importance) = ilrDef\n",
    "plot(vI)"
   ]
  },
  {
   "cell_type": "markdown",
   "metadata": {},
   "source": [
    "## Assessing imbalance"
   ]
  },
  {
   "cell_type": "markdown",
   "metadata": {},
   "source": [
    "The euclidean distance as imbalance index is not always good. Let's see how it behaves in this case. First, I create a vector containing the predictions of the model. This vector is a series of `LY` and `HY` values. The `TN` object is a data frame containing the ionomes of true negatives, i.e. whose actual and predicted values are high yields."
   ]
  },
  {
   "cell_type": "code",
   "execution_count": 29,
   "metadata": {},
   "outputs": [],
   "source": [
    "predicted = predict(ml_kknn_clf, bal_df %>% dplyr::select(-matches(\"yield\")))\n",
    "TN = bal_df[bal_df$yieldclass == 'HY' & predicted == 'HY', ]"
   ]
  },
  {
   "cell_type": "markdown",
   "metadata": {},
   "source": [
    "I also create a quick function returning the euclidean distance between the values of two vectors."
   ]
  },
  {
   "cell_type": "code",
   "execution_count": 30,
   "metadata": {},
   "outputs": [],
   "source": [
    "euclidean_distance = function(x1, x2) (sqrt(sum(x1-x2)^2))"
   ]
  },
  {
   "cell_type": "markdown",
   "metadata": {},
   "source": [
    "The following function will be applied to each observation. I checks if the observation is predicted as `LY` or `HY`. Then it computes the euclidean distance between the observation and the mean of the `k_nearest` (let's say 10) nearest balanced points. It also checks if the mean of the nearest balanced points is indeed a `HY`, just in case the mean falls into a `LY` hole."
   ]
  },
  {
   "cell_type": "code",
   "execution_count": 31,
   "metadata": {},
   "outputs": [],
   "source": [
    "balance_knn = function(observed_bal, bal_dataset, model, k_nearest) {\n",
    "    # The model must return either LY or HY\n",
    "    is_obs_balanced = predict(model, observed_bal) == 'HY'\n",
    "    \n",
    "    distances = apply(bal_dataset, 1, euclidean_distance, x2=observed_bal)\n",
    "    nearest = names(sort(distances, decreasing=TRUE)[1:k_nearest])\n",
    "    reference_bals = bal_dataset[rownames(bal_dataset) %in% nearest, ]\n",
    "    reference_bal = apply(reference_bals, 2, mean)\n",
    "    reference_bal = t(data.frame(reference_bal))\n",
    "    \n",
    "    is_ref_balanced = predict(ml_kknn_clf, reference_bal) == 'HY'\n",
    "    \n",
    "    imbalance_index = euclidean_distance(reference_bal, observed_bal)\n",
    "    return(list(is_obs_balanced, is_ref_balanced, imbalance_index, reference_bals))\n",
    "}"
   ]
  },
  {
   "cell_type": "markdown",
   "metadata": {},
   "source": [
    "Here I'm aranging the balances matrix as a data frame, and I create a data frame where the diagnostic will be stored."
   ]
  },
  {
   "cell_type": "code",
   "execution_count": 32,
   "metadata": {},
   "outputs": [],
   "source": [
    "observed_bal = data.frame(bal)\n",
    "colnames(observed_bal) = colnames(training)[-13]\n",
    "diagnostic = data.frame(matrix(ncol = 3, nrow = nrow(observed_bal)))\n",
    "colnames(diagnostic) = c(\"obs_is_balanced\", \"ref_is_balanced\", \"imbalance_index\")"
   ]
  },
  {
   "cell_type": "markdown",
   "metadata": {},
   "source": [
    "The following loop computes the diagnosis for every observed balance. It's a long process, and probably a highly sub-optimal approach in terms of computation efficiency."
   ]
  },
  {
   "cell_type": "code",
   "execution_count": 33,
   "metadata": {},
   "outputs": [],
   "source": [
    "reference_bals_l = list()\n",
    "for (i in 1:nrow(observed_bal)) {\n",
    "    output = balance_knn(observed_bal = observed_bal[i, ], \n",
    "                                  bal_dataset = TN[, 1:12], \n",
    "                                  model = ml_kknn_clf, \n",
    "                                  k_nearest=10)\n",
    "    diagnostic[i, 1] = output[[1]]\n",
    "    diagnostic[i, 2] = output[[2]]\n",
    "    diagnostic[i, 3] = output[[3]]\n",
    "    reference_bals_l[[i]] = output[[4]]\n",
    "}"
   ]
  },
  {
   "cell_type": "markdown",
   "metadata": {},
   "source": [
    "I put the yield and yield class in the diagnosis table to make thing pretty for plotting."
   ]
  },
  {
   "cell_type": "code",
   "execution_count": 34,
   "metadata": {},
   "outputs": [],
   "source": [
    "diagnostic$yield = atoca$Rendement\n",
    "diagnostic$yieldclass = cut(atoca$Rendement, c(0, yield_delimiter, 75))\n",
    "levels(diagnostic$yieldclass) = c('LY', 'HY')"
   ]
  },
  {
   "cell_type": "code",
   "execution_count": 35,
   "metadata": {},
   "outputs": [
    {
     "data": {
      "image/png": "[encoded data removed]",
      "text/plain": [
       "Plot with title \"\""
      ]
     },
     "metadata": {},
     "output_type": "display_data"
    }
   ],
   "source": [
    "options(repr.plot.width=6, repr.plot.height=4)\n",
    "par(mfrow=c(1, 2))\n",
    "plot(diagnostic$yield, diagnostic$imbalance_index, \n",
    "     xlab=\"Yield, t/ha\", ylab=\"Imbalance index\")\n",
    "plot(density(diagnostic$imbalance_index[diagnostic$yieldclass == 'LY']),\n",
    "    main=\"\", xlab=\"Imbalance index\", col=\"red\", ylim=c(0, 0.5))\n",
    "lines(density(diagnostic$imbalance_index[diagnostic$yieldclass == 'HY']),\n",
    "     col=\"blue\")\n",
    "legend(4, 0.5, legend=c(\"LY\", \"HY\"),\n",
    "       col=c(\"red\", \"blue\"), cex=0.8)"
   ]
  },
  {
   "cell_type": "markdown",
   "metadata": {},
   "source": [
    "From the first plot it's obvious that there is a trend between yield and imbalance index, but it's very noisy. The density plots show that high yielders have generally a lower imbalance index, but low yielders have a broad range of values, corevering high yielders. The imbalance index is not suitable here."
   ]
  },
  {
   "cell_type": "markdown",
   "metadata": {},
   "source": [
    "For a signle observation, it is possible to plot it's position in a CoDa dendrogram, with the statistics of its reference (the confidence range of the nearest values is to interpret with care when it has few values, here just 10)."
   ]
  },
  {
   "cell_type": "markdown",
   "metadata": {},
   "source": [
    "It's not obvious which color is the reference and which is the observed. If you check the numbers, red is the observed and green is the reference."
   ]
  },
  {
   "cell_type": "code",
   "execution_count": 36,
   "metadata": {
    "scrolled": false
   },
   "outputs": [],
   "source": [
    "i=10\n",
    "observed_bal = bal[i, ]\n",
    "codadend_df = rbind(reference_bals_l[[i]], observed_bal, observed_bal)\n",
    "codadend_df$group = c(rep('reference', 10), 'observed', 'observed')"
   ]
  },
  {
   "cell_type": "code",
   "execution_count": 37,
   "metadata": {},
   "outputs": [
    {
     "name": "stderr",
     "output_type": "stream",
     "text": [
      "Warning message in structure(c(), class = c(class(x), class(y))):\n",
      "\"Calling 'structure(NULL, *)' is deprecated, as NULL cannot have attributes.\n",
      "  Consider 'structure(list(), *)' instead.\"Warning message in structure(c(), class = c(class(x), class(y))):\n",
      "\"Calling 'structure(NULL, *)' is deprecated, as NULL cannot have attributes.\n",
      "  Consider 'structure(list(), *)' instead.\"Warning message in structure(c(), class = c(class(x), class(y))):\n",
      "\"Calling 'structure(NULL, *)' is deprecated, as NULL cannot have attributes.\n",
      "  Consider 'structure(list(), *)' instead.\"Warning message in structure(c(), class = c(class(x), class(y))):\n",
      "\"Calling 'structure(NULL, *)' is deprecated, as NULL cannot have attributes.\n",
      "  Consider 'structure(list(), *)' instead.\"Warning message in structure(c(), class = c(class(x), class(y))):\n",
      "\"Calling 'structure(NULL, *)' is deprecated, as NULL cannot have attributes.\n",
      "  Consider 'structure(list(), *)' instead.\"Warning message in structure(c(), class = c(class(x), class(y))):\n",
      "\"Calling 'structure(NULL, *)' is deprecated, as NULL cannot have attributes.\n",
      "  Consider 'structure(list(), *)' instead.\"Warning message in structure(c(), class = c(class(x), class(y))):\n",
      "\"Calling 'structure(NULL, *)' is deprecated, as NULL cannot have attributes.\n",
      "  Consider 'structure(list(), *)' instead.\"Warning message in structure(c(), class = c(class(x), class(y))):\n",
      "\"Calling 'structure(NULL, *)' is deprecated, as NULL cannot have attributes.\n",
      "  Consider 'structure(list(), *)' instead.\"Warning message in structure(c(), class = c(class(x), class(y))):\n",
      "\"Calling 'structure(NULL, *)' is deprecated, as NULL cannot have attributes.\n",
      "  Consider 'structure(list(), *)' instead.\"Warning message in structure(c(), class = c(class(x), class(y))):\n",
      "\"Calling 'structure(NULL, *)' is deprecated, as NULL cannot have attributes.\n",
      "  Consider 'structure(list(), *)' instead.\"Warning message in structure(c(), class = c(class(x), class(y))):\n",
      "\"Calling 'structure(NULL, *)' is deprecated, as NULL cannot have attributes.\n",
      "  Consider 'structure(list(), *)' instead.\"Warning message in structure(c(), class = c(class(x), class(y))):\n",
      "\"Calling 'structure(NULL, *)' is deprecated, as NULL cannot have attributes.\n",
      "  Consider 'structure(list(), *)' instead.\"Warning message in structure(c(), class = c(class(x), class(y))):\n",
      "\"Calling 'structure(NULL, *)' is deprecated, as NULL cannot have attributes.\n",
      "  Consider 'structure(list(), *)' instead.\"Warning message in structure(c(), class = c(class(x), class(y))):\n",
      "\"Calling 'structure(NULL, *)' is deprecated, as NULL cannot have attributes.\n",
      "  Consider 'structure(list(), *)' instead.\"Warning message in structure(c(), class = c(class(x), class(y))):\n",
      "\"Calling 'structure(NULL, *)' is deprecated, as NULL cannot have attributes.\n",
      "  Consider 'structure(list(), *)' instead.\"Warning message in structure(c(), class = c(class(x), class(y))):\n",
      "\"Calling 'structure(NULL, *)' is deprecated, as NULL cannot have attributes.\n",
      "  Consider 'structure(list(), *)' instead.\"Warning message in structure(c(), class = c(class(x), class(y))):\n",
      "\"Calling 'structure(NULL, *)' is deprecated, as NULL cannot have attributes.\n",
      "  Consider 'structure(list(), *)' instead.\"Warning message in structure(c(), class = c(class(x), class(y))):\n",
      "\"Calling 'structure(NULL, *)' is deprecated, as NULL cannot have attributes.\n",
      "  Consider 'structure(list(), *)' instead.\"Warning message in structure(c(), class = c(class(x), class(y))):\n",
      "\"Calling 'structure(NULL, *)' is deprecated, as NULL cannot have attributes.\n",
      "  Consider 'structure(list(), *)' instead.\"Warning message in structure(c(), class = c(class(x), class(y))):\n",
      "\"Calling 'structure(NULL, *)' is deprecated, as NULL cannot have attributes.\n",
      "  Consider 'structure(list(), *)' instead.\"Warning message in structure(c(), class = c(class(x), class(y))):\n",
      "\"Calling 'structure(NULL, *)' is deprecated, as NULL cannot have attributes.\n",
      "  Consider 'structure(list(), *)' instead.\"Warning message in structure(c(), class = c(class(x), class(y))):\n",
      "\"Calling 'structure(NULL, *)' is deprecated, as NULL cannot have attributes.\n",
      "  Consider 'structure(list(), *)' instead.\"Warning message in structure(c(), class = c(class(x), class(y))):\n",
      "\"Calling 'structure(NULL, *)' is deprecated, as NULL cannot have attributes.\n",
      "  Consider 'structure(list(), *)' instead.\"Warning message in structure(c(), class = c(class(x), class(y))):\n",
      "\"Calling 'structure(NULL, *)' is deprecated, as NULL cannot have attributes.\n",
      "  Consider 'structure(list(), *)' instead.\"Warning message in structure(c(), class = c(class(x), class(y))):\n",
      "\"Calling 'structure(NULL, *)' is deprecated, as NULL cannot have attributes.\n",
      "  Consider 'structure(list(), *)' instead.\"Warning message in structure(c(), class = c(class(x), class(y))):\n",
      "\"Calling 'structure(NULL, *)' is deprecated, as NULL cannot have attributes.\n",
      "  Consider 'structure(list(), *)' instead.\"Warning message in structure(c(), class = c(class(x), class(y))):\n",
      "\"Calling 'structure(NULL, *)' is deprecated, as NULL cannot have attributes.\n",
      "  Consider 'structure(list(), *)' instead.\"Warning message in structure(c(), class = c(class(x), class(y))):\n",
      "\"Calling 'structure(NULL, *)' is deprecated, as NULL cannot have attributes.\n",
      "  Consider 'structure(list(), *)' instead.\""
     ]
    },
    {
     "data": {
      "image/png": "[encoded data removed]",
      "text/plain": [
       "plot without title"
      ]
     },
     "metadata": {},
     "output_type": "display_data"
    }
   ],
   "source": [
    "options(repr.plot.width=8, repr.plot.height=5)\n",
    "CoDaDendrogram2(ilrInv(codadend_df[, -13], V=psi), V = psi,\n",
    "                range = 'auto', equal.height = TRUE, type = 'conf', conf.level=0.95,\n",
    "                 group = factor(codadend_df$group),\n",
    "                show.range = TRUE)"
   ]
  },
  {
   "cell_type": "code",
   "execution_count": 38,
   "metadata": {},
   "outputs": [
    {
     "data": {
      "text/html": [
       "2.13769702531394"
      ],
      "text/latex": [
       "2.13769702531394"
      ],
      "text/markdown": [
       "2.13769702531394"
      ],
      "text/plain": [
       "[1] 2.137697"
      ]
     },
     "metadata": {},
     "output_type": "display_data"
    }
   ],
   "source": [
    "imbalance_index = euclidean_distance(apply(reference_bals_l[[i]], 2, mean), observed_bal)\n",
    "imbalance_index"
   ]
  },
  {
   "cell_type": "markdown",
   "metadata": {},
   "source": [
    "## The Cate-Nelson approach\n",
    "\n",
    "What we did was the latest approach I retained. But in most papers I published, I used an *in-house* approach based on the binary classification approach, similar to the *Sufficiency levels of available nutrients* concept known as the Cate-Nelson approach in agriculture ([Nelson 1975](http://agris.fao.org/agris-search/search.do?recordID=SE19760060645); example in a [FAO document](http://www.fao.org/docrep/018/ar118e/ar118e.pdf), page 33).\n",
    "\n",
    "Here, I loop across several `qcrit` thresholds to recover a sensitivity versus sensitivity curve for the training set."
   ]
  },
  {
   "cell_type": "code",
   "execution_count": 40,
   "metadata": {},
   "outputs": [],
   "source": [
    "in_train = createDataPartition(y = bal_df$yield, p = .75, list = FALSE) # indexes of the training set\n",
    "training = bal_df[in_train, ] # training set\n",
    "testing = bal_df[-in_train, ] # testing set"
   ]
  },
  {
   "cell_type": "code",
   "execution_count": 41,
   "metadata": {},
   "outputs": [],
   "source": [
    "qcrit_vector = seq(0.950, 0.999, by = 0.001) # ajust minimum value if an error message is returned from the sign1_ref function\n",
    "senspe = matrix(ncol = 2, nrow = length(qcrit_vector))\n",
    "colnames(senspe) = c(\"Sensitivity\", \"Specificity\")\n",
    "\n",
    "sign1_results = list()\n",
    "for (j in 1:length(qcrit_vector)) {\n",
    "  sign1_results[[j]] = sign1_ref(mv = training[, -c(13, 14)], Y = training[, 13], Ycut = yield_delimiter, \n",
    "                                 niter = 20, qcrit = qcrit_vector[j])\n",
    "  classification = biclass(x=sign1_results[[j]]$mv.dist, y = training[, 13],\n",
    "                           xl = sign1_results[[j]]$const, yl = yield_delimiter)$classification\n",
    "  senspe[j, 1] = sum(classification == \"TP\") / (sum(classification == \"TP\") + sum(classification == \"FN\"))\n",
    "  senspe[j, 2] = sum(classification == \"TN\") / (sum(classification == \"TN\") + sum(classification == \"FP\"))\n",
    "}"
   ]
  },
  {
   "cell_type": "markdown",
   "metadata": {},
   "source": [
    "The `senspe` matrix is used to plot a ROC curve. This needs several steps. First, I add theoretical values where sensitivity is 1 and specificity is 0, and where sensitivity is 0 and specificity is 1."
   ]
  },
  {
   "cell_type": "code",
   "execution_count": 42,
   "metadata": {},
   "outputs": [],
   "source": [
    "senspe = rbind(c(1, 0), senspe, c(0, 1))"
   ]
  },
  {
   "cell_type": "markdown",
   "metadata": {},
   "source": [
    "Then I compute the AUC (area under the curve) index..."
   ]
  },
  {
   "cell_type": "code",
   "execution_count": 43,
   "metadata": {},
   "outputs": [],
   "source": [
    "sAUC = vector()\n",
    "sAUC[1] = senspe[1,2]*senspe[1,1]\n",
    "for (i in 2:nrow(senspe)) sAUC[i] = (senspe[i,2]-senspe[i-1,2])*senspe[i,1]\n",
    "AUC = sum(sAUC, na.rm = TRUE)"
   ]
  },
  {
   "cell_type": "markdown",
   "metadata": {},
   "source": [
    "... as well as the Youden index ($Sensitivity + Specificity - 1$)."
   ]
  },
  {
   "cell_type": "code",
   "execution_count": 44,
   "metadata": {},
   "outputs": [],
   "source": [
    "youden <- apply(senspe, 1, function(X) sum(X) - 1)\n",
    "optXi = which.max(youden)"
   ]
  },
  {
   "cell_type": "markdown",
   "metadata": {},
   "source": [
    "The following code produces a ROC plot."
   ]
  },
  {
   "cell_type": "code",
   "execution_count": 45,
   "metadata": {},
   "outputs": [
    {
     "data": {},
     "metadata": {},
     "output_type": "display_data"
    },
    {
     "data": {
      "image/png": "[encoded data removed]",
      "text/plain": [
       "plot without title"
      ]
     },
     "metadata": {},
     "output_type": "display_data"
    }
   ],
   "source": [
    "options(repr.plot.width=4, repr.plot.height=4)\n",
    "ggplot(data = data.frame(senspe), aes(x = Specificity, y = Sensitivity)) +\n",
    "  theme_bw() +\n",
    "  geom_step(direction = \"vh\") +\n",
    "  geom_abline(intercept = 1, slope= -1, lty=2) +\n",
    "  geom_point(data = data.frame(senspe)[optXi, ], size=3) +\n",
    "  geom_text(data = data.frame(senspe)[optXi, ],\n",
    "            label = paste(\"[\", round(senspe[optXi, 1], 2), \", \", \n",
    "                          round(senspe[optXi, 2], 2), \"]\", sep=\"\"),\n",
    "            hjust=0.3, vjust=-1) +\n",
    "  geom_text(data = data.frame(Specificity = 0.5, Sensitivity = 0.5),\n",
    "            label = paste(\"AUC = \", round(AUC, 2), sep=\"\")) +\n",
    "  coord_equal()"
   ]
  },
  {
   "cell_type": "markdown",
   "metadata": {},
   "source": [
    "The optimal value for qcrit is the following."
   ]
  },
  {
   "cell_type": "code",
   "execution_count": 46,
   "metadata": {},
   "outputs": [
    {
     "data": {
      "text/html": [
       "0.959"
      ],
      "text/latex": [
       "0.959"
      ],
      "text/markdown": [
       "0.959"
      ],
      "text/plain": [
       "[1] 0.959"
      ]
     },
     "metadata": {},
     "output_type": "display_data"
    }
   ],
   "source": [
    "qcrit_vector[optXi]"
   ]
  },
  {
   "cell_type": "markdown",
   "metadata": {},
   "source": [
    "I will not print it here, but the information for the partition done with the optimal `qcrit` can be recovered in the `sign1_results[[optXi]]` object. I'm using this object for the binary classification (Cate-Nelson)"
   ]
  },
  {
   "cell_type": "code",
   "execution_count": 47,
   "metadata": {},
   "outputs": [
    {
     "data": {
      "image/png": "[encoded data removed]",
      "text/plain": [
       "plot without title"
      ]
     },
     "metadata": {},
     "output_type": "display_data"
    }
   ],
   "source": [
    "options(repr.plot.width=5, repr.plot.height=8)\n",
    "bin_class_train = CateNelson(x = sign1_results[[optXi]]$mv.dist, y = training$yield,\n",
    "                             xcn = sign1_results[[optXi]]$const, ycn = yield_delimiter,\n",
    "                             TNpos = \"ul\", xlab = expression(\"Mahalanobis distance\"), ylab = \"Yield\",\n",
    "                             draw.ellipse = \"none\",\n",
    "                             anovm = TRUE, anovm.span = 0.1, anovm.degree = 1,\n",
    "                             dens.plot = TRUE, colors = \"greys\")"
   ]
  },
  {
   "cell_type": "markdown",
   "metadata": {},
   "source": [
    "We get an accuracy of 0.89 with the training set. This is pretty good! Now let's try with the testing set.\n",
    "\n",
    "To do this I isolate the balances of the reference population (true high yielders), `thy`."
   ]
  },
  {
   "cell_type": "code",
   "execution_count": 48,
   "metadata": {},
   "outputs": [],
   "source": [
    "thy = training[sign1_results[[optXi]]$mv.dist <= sign1_results[[optXi]]$const & \n",
    "               training$yield > yield_delimiter, -c(13, 14)]"
   ]
  },
  {
   "cell_type": "markdown",
   "metadata": {},
   "source": [
    "Then I compute the Mahalanobis distance between the testing set and the reference population."
   ]
  },
  {
   "cell_type": "code",
   "execution_count": 49,
   "metadata": {},
   "outputs": [],
   "source": [
    "invCov = ginv(cov(thy)) # I invert the matrix separetly with the robust ginv function (MASS package)\n",
    "test_mv.dist = sqrt(mahalanobis(testing[ , -c(13, 14)], \n",
    "                                center = apply(thy, 2, median), \n",
    "                                cov = invCov, \n",
    "                                inverted = TRUE)) "
   ]
  },
  {
   "cell_type": "code",
   "execution_count": 50,
   "metadata": {},
   "outputs": [
    {
     "data": {
      "image/png": "[encoded data removed]",
      "text/plain": [
       "plot without title"
      ]
     },
     "metadata": {},
     "output_type": "display_data"
    }
   ],
   "source": [
    "options(repr.plot.width=6, repr.plot.height=4)\n",
    "bin_class_test = CateNelson(x = test_mv.dist, y = testing$yield,\n",
    "                            xcn = sign1_results[[optXi]]$const, ycn = yield_delimiter,\n",
    "                            TNpos = \"ul\", xlab = expression(\"Mahalanobis distance\"), ylab = \"Yield\",\n",
    "                            draw.ellipse = \"none\",\n",
    "                            anovm = FALSE,\n",
    "                            dens.plot = FALSE,\n",
    "                            colors = \"greys\")"
   ]
  },
  {
   "cell_type": "markdown",
   "metadata": {},
   "source": [
    "The testing accuracy is 0.79. Not so bad, but below what we get with KNNs."
   ]
  },
  {
   "cell_type": "markdown",
   "metadata": {},
   "source": [
    "## DRIS\n",
    "\n",
    "The DRIS is usually not conducted with training and testing sets. I could do it, but I guess at this point you can figure out how it can be done. Here I'm using the whole data set. The DRIS function takes a collection of high yielders, a collection of low yielders and a data set on which we want to compute the imbalance indices.\n",
    "\n",
    "But when I first ran the DRIS function it failed because there is a zero value in the data set, in the iron column, on line 225. Let's impute this value as 65% of the lowest measurement."
   ]
  },
  {
   "cell_type": "code",
   "execution_count": 51,
   "metadata": {},
   "outputs": [],
   "source": [
    "zero_imp = function(x, rate=0.65) {\n",
    "    x[x==0] = rate * min(x[x>0])\n",
    "    return(x)\n",
    "}\n",
    "parts_imp = apply(parts, 2, zero_imp)"
   ]
  },
  {
   "cell_type": "markdown",
   "metadata": {},
   "source": [
    "For isolation of low and high yielders, in percentage."
   ]
  },
  {
   "cell_type": "code",
   "execution_count": 52,
   "metadata": {},
   "outputs": [],
   "source": [
    "high_yielders = parts_imp[atoca$Rendement >= yield_delimiter, -13] / 10000\n",
    "low_yielders = parts_imp[atoca$Rendement < yield_delimiter, -13] / 10000"
   ]
  },
  {
   "cell_type": "markdown",
   "metadata": {},
   "source": [
    "The DRIS function include several methods. The Beaufils method is the classical one."
   ]
  },
  {
   "cell_type": "code",
   "execution_count": 53,
   "metadata": {},
   "outputs": [],
   "source": [
    "i=1:10 # argument obs must contain at least two rows\n",
    "dris_i = DRIS(obs = parts_imp[i, -13] / 10000, \n",
    "              ref.hy=high_yielders, \n",
    "              ref.ly=low_yielders,\n",
    "              method=\"Beaufils\")"
   ]
  },
  {
   "cell_type": "code",
   "execution_count": 54,
   "metadata": {},
   "outputs": [
    {
     "data": {
      "text/html": [
       "<table>\n",
       "<thead><tr><th scope=col>B</th><th scope=col>Ca</th><th scope=col>Cu</th><th scope=col>Fe</th><th scope=col>K</th><th scope=col>Mg</th><th scope=col>Mn</th><th scope=col>P</th><th scope=col>Zn</th><th scope=col>N</th><th scope=col>C</th><th scope=col>S</th></tr></thead>\n",
       "<tbody>\n",
       "\t<tr><td> 0.06606111  </td><td>-1.0012492   </td><td> 0.88100111  </td><td>-0.1470924   </td><td> 3.25744015  </td><td>0.1746577    </td><td>-0.74192784  </td><td> 0.2761492   </td><td>0.4171985    </td><td>-2.3372454   </td><td> 0.6186254490</td><td>-1.46361830  </td></tr>\n",
       "\t<tr><td>-0.95883559  </td><td> 0.3705762   </td><td> 0.23089634  </td><td> 0.2334644   </td><td> 1.03444349  </td><td>1.2040973    </td><td>-1.51798791  </td><td> 0.7040106   </td><td>0.8218244    </td><td>-1.7638275   </td><td> 0.3558257024</td><td>-0.71448736  </td></tr>\n",
       "\t<tr><td> 0.49948454  </td><td>-0.3352700   </td><td>-0.42236072  </td><td> 1.8508442   </td><td> 0.20638529  </td><td>0.7926367    </td><td>-1.05089169  </td><td>-0.4328939   </td><td>0.5528011    </td><td>-0.7518617   </td><td>-0.0512436627</td><td>-0.85763012  </td></tr>\n",
       "\t<tr><td>-0.59329363  </td><td>-0.2847561   </td><td>-0.36510665  </td><td> 1.0989168   </td><td> 0.63918754  </td><td>1.0906048    </td><td>-1.27937039  </td><td> 0.1998793   </td><td>0.7247023    </td><td>-1.1290017   </td><td> 0.1445670060</td><td>-0.24632929  </td></tr>\n",
       "\t<tr><td>-0.38257121  </td><td>-0.3621281   </td><td> 0.64939613  </td><td> 0.4967276   </td><td>-0.18758101  </td><td>0.7500797    </td><td> 0.05469088  </td><td>-0.4528397   </td><td>0.3417799    </td><td>-0.4566103   </td><td>-0.1048941867</td><td>-0.34604976  </td></tr>\n",
       "\t<tr><td>-0.79149209  </td><td> 0.2422710   </td><td>-0.10007938  </td><td>-0.2774750   </td><td>-0.19658697  </td><td>1.1672187    </td><td>-0.37344033  </td><td> 0.3124707   </td><td>0.4831523    </td><td>-0.3503757   </td><td>-0.1784764647</td><td> 0.06281320  </td></tr>\n",
       "\t<tr><td>-0.67934459  </td><td>-0.3659084   </td><td> 0.39397953  </td><td> 2.2808733   </td><td>-0.55999543  </td><td>0.3796897    </td><td> 0.36226436  </td><td>-0.4463060   </td><td>0.2818398    </td><td>-0.2020744   </td><td>-0.5873487721</td><td>-0.85766919  </td></tr>\n",
       "\t<tr><td>-1.24310824  </td><td>-0.1996018   </td><td> 0.07345773  </td><td> 1.1637386   </td><td>-0.05079655  </td><td>0.8884791    </td><td>-0.97524017  </td><td> 0.3197256   </td><td>0.5257259    </td><td> 0.1099351   </td><td>-0.0008333157</td><td>-0.61148201  </td></tr>\n",
       "\t<tr><td> 0.34263819  </td><td>-0.1976793   </td><td>-0.47331686  </td><td> 0.3376224   </td><td>-0.03721161  </td><td>0.4047769    </td><td>-0.30383521  </td><td>-0.1578112   </td><td>0.2944318    </td><td> 0.3669648   </td><td>-0.4855948221</td><td>-0.09098494  </td></tr>\n",
       "\t<tr><td>-0.76225885  </td><td>-0.2100305   </td><td>-0.38708717  </td><td>-0.4742901   </td><td>-0.43361474  </td><td>0.8603274    </td><td>-0.41421770  </td><td> 0.5372788   </td><td>0.4381843    </td><td> 0.8077815   </td><td>-0.2456443418</td><td> 0.28357141  </td></tr>\n",
       "</tbody>\n",
       "</table>\n"
      ],
      "text/latex": [
       "\\begin{tabular}{llllllllllll}\n",
       " B & Ca & Cu & Fe & K & Mg & Mn & P & Zn & N & C & S\\\\\n",
       "\\hline\n",
       "\t  0.06606111   & -1.0012492    &  0.88100111   & -0.1470924    &  3.25744015   & 0.1746577     & -0.74192784   &  0.2761492    & 0.4171985     & -2.3372454    &  0.6186254490 & -1.46361830  \\\\\n",
       "\t -0.95883559   &  0.3705762    &  0.23089634   &  0.2334644    &  1.03444349   & 1.2040973     & -1.51798791   &  0.7040106    & 0.8218244     & -1.7638275    &  0.3558257024 & -0.71448736  \\\\\n",
       "\t  0.49948454   & -0.3352700    & -0.42236072   &  1.8508442    &  0.20638529   & 0.7926367     & -1.05089169   & -0.4328939    & 0.5528011     & -0.7518617    & -0.0512436627 & -0.85763012  \\\\\n",
       "\t -0.59329363   & -0.2847561    & -0.36510665   &  1.0989168    &  0.63918754   & 1.0906048     & -1.27937039   &  0.1998793    & 0.7247023     & -1.1290017    &  0.1445670060 & -0.24632929  \\\\\n",
       "\t -0.38257121   & -0.3621281    &  0.64939613   &  0.4967276    & -0.18758101   & 0.7500797     &  0.05469088   & -0.4528397    & 0.3417799     & -0.4566103    & -0.1048941867 & -0.34604976  \\\\\n",
       "\t -0.79149209   &  0.2422710    & -0.10007938   & -0.2774750    & -0.19658697   & 1.1672187     & -0.37344033   &  0.3124707    & 0.4831523     & -0.3503757    & -0.1784764647 &  0.06281320  \\\\\n",
       "\t -0.67934459   & -0.3659084    &  0.39397953   &  2.2808733    & -0.55999543   & 0.3796897     &  0.36226436   & -0.4463060    & 0.2818398     & -0.2020744    & -0.5873487721 & -0.85766919  \\\\\n",
       "\t -1.24310824   & -0.1996018    &  0.07345773   &  1.1637386    & -0.05079655   & 0.8884791     & -0.97524017   &  0.3197256    & 0.5257259     &  0.1099351    & -0.0008333157 & -0.61148201  \\\\\n",
       "\t  0.34263819   & -0.1976793    & -0.47331686   &  0.3376224    & -0.03721161   & 0.4047769     & -0.30383521   & -0.1578112    & 0.2944318     &  0.3669648    & -0.4855948221 & -0.09098494  \\\\\n",
       "\t -0.76225885   & -0.2100305    & -0.38708717   & -0.4742901    & -0.43361474   & 0.8603274     & -0.41421770   &  0.5372788    & 0.4381843     &  0.8077815    & -0.2456443418 &  0.28357141  \\\\\n",
       "\\end{tabular}\n"
      ],
      "text/markdown": [
       "\n",
       "B | Ca | Cu | Fe | K | Mg | Mn | P | Zn | N | C | S | \n",
       "|---|---|---|---|---|---|---|---|---|---|\n",
       "|  0.06606111   | -1.0012492    |  0.88100111   | -0.1470924    |  3.25744015   | 0.1746577     | -0.74192784   |  0.2761492    | 0.4171985     | -2.3372454    |  0.6186254490 | -1.46361830   | \n",
       "| -0.95883559   |  0.3705762    |  0.23089634   |  0.2334644    |  1.03444349   | 1.2040973     | -1.51798791   |  0.7040106    | 0.8218244     | -1.7638275    |  0.3558257024 | -0.71448736   | \n",
       "|  0.49948454   | -0.3352700    | -0.42236072   |  1.8508442    |  0.20638529   | 0.7926367     | -1.05089169   | -0.4328939    | 0.5528011     | -0.7518617    | -0.0512436627 | -0.85763012   | \n",
       "| -0.59329363   | -0.2847561    | -0.36510665   |  1.0989168    |  0.63918754   | 1.0906048     | -1.27937039   |  0.1998793    | 0.7247023     | -1.1290017    |  0.1445670060 | -0.24632929   | \n",
       "| -0.38257121   | -0.3621281    |  0.64939613   |  0.4967276    | -0.18758101   | 0.7500797     |  0.05469088   | -0.4528397    | 0.3417799     | -0.4566103    | -0.1048941867 | -0.34604976   | \n",
       "| -0.79149209   |  0.2422710    | -0.10007938   | -0.2774750    | -0.19658697   | 1.1672187     | -0.37344033   |  0.3124707    | 0.4831523     | -0.3503757    | -0.1784764647 |  0.06281320   | \n",
       "| -0.67934459   | -0.3659084    |  0.39397953   |  2.2808733    | -0.55999543   | 0.3796897     |  0.36226436   | -0.4463060    | 0.2818398     | -0.2020744    | -0.5873487721 | -0.85766919   | \n",
       "| -1.24310824   | -0.1996018    |  0.07345773   |  1.1637386    | -0.05079655   | 0.8884791     | -0.97524017   |  0.3197256    | 0.5257259     |  0.1099351    | -0.0008333157 | -0.61148201   | \n",
       "|  0.34263819   | -0.1976793    | -0.47331686   |  0.3376224    | -0.03721161   | 0.4047769     | -0.30383521   | -0.1578112    | 0.2944318     |  0.3669648    | -0.4855948221 | -0.09098494   | \n",
       "| -0.76225885   | -0.2100305    | -0.38708717   | -0.4742901    | -0.43361474   | 0.8603274     | -0.41421770   |  0.5372788    | 0.4381843     |  0.8077815    | -0.2456443418 |  0.28357141   | \n",
       "\n",
       "\n"
      ],
      "text/plain": [
       "      B           Ca         Cu          Fe         K           Mg       \n",
       " [1,]  0.06606111 -1.0012492  0.88100111 -0.1470924  3.25744015 0.1746577\n",
       " [2,] -0.95883559  0.3705762  0.23089634  0.2334644  1.03444349 1.2040973\n",
       " [3,]  0.49948454 -0.3352700 -0.42236072  1.8508442  0.20638529 0.7926367\n",
       " [4,] -0.59329363 -0.2847561 -0.36510665  1.0989168  0.63918754 1.0906048\n",
       " [5,] -0.38257121 -0.3621281  0.64939613  0.4967276 -0.18758101 0.7500797\n",
       " [6,] -0.79149209  0.2422710 -0.10007938 -0.2774750 -0.19658697 1.1672187\n",
       " [7,] -0.67934459 -0.3659084  0.39397953  2.2808733 -0.55999543 0.3796897\n",
       " [8,] -1.24310824 -0.1996018  0.07345773  1.1637386 -0.05079655 0.8884791\n",
       " [9,]  0.34263819 -0.1976793 -0.47331686  0.3376224 -0.03721161 0.4047769\n",
       "[10,] -0.76225885 -0.2100305 -0.38708717 -0.4742901 -0.43361474 0.8603274\n",
       "      Mn          P          Zn        N          C             S          \n",
       " [1,] -0.74192784  0.2761492 0.4171985 -2.3372454  0.6186254490 -1.46361830\n",
       " [2,] -1.51798791  0.7040106 0.8218244 -1.7638275  0.3558257024 -0.71448736\n",
       " [3,] -1.05089169 -0.4328939 0.5528011 -0.7518617 -0.0512436627 -0.85763012\n",
       " [4,] -1.27937039  0.1998793 0.7247023 -1.1290017  0.1445670060 -0.24632929\n",
       " [5,]  0.05469088 -0.4528397 0.3417799 -0.4566103 -0.1048941867 -0.34604976\n",
       " [6,] -0.37344033  0.3124707 0.4831523 -0.3503757 -0.1784764647  0.06281320\n",
       " [7,]  0.36226436 -0.4463060 0.2818398 -0.2020744 -0.5873487721 -0.85766919\n",
       " [8,] -0.97524017  0.3197256 0.5257259  0.1099351 -0.0008333157 -0.61148201\n",
       " [9,] -0.30383521 -0.1578112 0.2944318  0.3669648 -0.4855948221 -0.09098494\n",
       "[10,] -0.41421770  0.5372788 0.4381843  0.8077815 -0.2456443418  0.28357141"
      ]
     },
     "metadata": {},
     "output_type": "display_data"
    }
   ],
   "source": [
    "dris_i$Index"
   ]
  },
  {
   "cell_type": "code",
   "execution_count": 55,
   "metadata": {},
   "outputs": [
    {
     "data": {
      "text/html": [
       "<ol class=list-inline>\n",
       "\t<li>0.948522196187152</li>\n",
       "\t<li>0.825856393351567</li>\n",
       "\t<li>0.650358625375224</li>\n",
       "\t<li>0.64964296776262</li>\n",
       "\t<li>0.382112375674215</li>\n",
       "\t<li>0.377987653212307</li>\n",
       "\t<li>0.616441126930497</li>\n",
       "\t<li>0.513510347231134</li>\n",
       "\t<li>0.291072329621244</li>\n",
       "\t<li>0.487857224143511</li>\n",
       "</ol>\n"
      ],
      "text/latex": [
       "\\begin{enumerate*}\n",
       "\\item 0.948522196187152\n",
       "\\item 0.825856393351567\n",
       "\\item 0.650358625375224\n",
       "\\item 0.64964296776262\n",
       "\\item 0.382112375674215\n",
       "\\item 0.377987653212307\n",
       "\\item 0.616441126930497\n",
       "\\item 0.513510347231134\n",
       "\\item 0.291072329621244\n",
       "\\item 0.487857224143511\n",
       "\\end{enumerate*}\n"
      ],
      "text/markdown": [
       "1. 0.948522196187152\n",
       "2. 0.825856393351567\n",
       "3. 0.650358625375224\n",
       "4. 0.64964296776262\n",
       "5. 0.382112375674215\n",
       "6. 0.377987653212307\n",
       "7. 0.616441126930497\n",
       "8. 0.513510347231134\n",
       "9. 0.291072329621244\n",
       "10. 0.487857224143511\n",
       "\n",
       "\n"
      ],
      "text/plain": [
       " [1] 0.9485222 0.8258564 0.6503586 0.6496430 0.3821124 0.3779877 0.6164411\n",
       " [8] 0.5135103 0.2910723 0.4878572"
      ]
     },
     "metadata": {},
     "output_type": "display_data"
    }
   ],
   "source": [
    "dris_i$IBN"
   ]
  }
 ],
 "metadata": {
  "kernelspec": {
   "display_name": "R",
   "language": "R",
   "name": "ir"
  },
  "language_info": {
   "codemirror_mode": "r",
   "file_extension": ".r",
   "mimetype": "text/x-r-source",
   "name": "R",
   "pygments_lexer": "r",
   "version": "3.5.1"
  }
 },
 "nbformat": 4,
 "nbformat_minor": 2
}
